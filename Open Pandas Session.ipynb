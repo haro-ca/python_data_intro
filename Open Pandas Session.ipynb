{
 "cells": [
  {
   "cell_type": "markdown",
   "metadata": {},
   "source": [
    "# Open Pandas Session \n",
    "\n",
    "> Author: Vincent D. Warmerdam (koaning)\n",
    "\n",
    "> Blog/Data/Code: [koaning blog](http://koaning.io)\n",
    "\n",
    "This is a document that was originally intended for students of my open Pandas sessions in Amsterdam. Example [here](http://www.eventbrite.co.uk/e/pandas-python-session-tickets-15630063942). However, other have found this useful which is why I don't mind people sharing it. \n",
    "\n",
    "## Contents of the Notebook\n",
    "\n",
    "- ipython basics \n",
    "- reminder of python lists\n",
    "- introduction to numpy \n",
    "- quick plots with matplotlib\n",
    "- introduction to pandas \n",
    "\n",
    "## Loading Packages \n",
    "\n",
    "Before moving on. Make sure that the following packages can be loaded without difficulty. "
   ]
  },
  {
   "cell_type": "code",
   "execution_count": 3,
   "metadata": {
    "collapsed": false
   },
   "outputs": [],
   "source": [
    "import math\n",
    "import numpy as np\n",
    "import pandas as pd\n",
    "import matplotlib.pyplot as plt\n",
    "%matplotlib inline  "
   ]
  },
  {
   "cell_type": "markdown",
   "metadata": {},
   "source": [
    "Should this give a problem, you can use pip from your ipython notebook and install any python package you might want. "
   ]
  },
  {
   "cell_type": "code",
   "execution_count": 3,
   "metadata": {
    "collapsed": false
   },
   "outputs": [
    {
     "name": "stdout",
     "output_type": "stream",
     "text": [
      "Requirement already satisfied (use --upgrade to upgrade): requests in /Library/Python/2.7/site-packages\n",
      "Cleaning up...\n"
     ]
    }
   ],
   "source": [
    "import pip\n",
    "\n",
    "def install(package):\n",
    "   pip.main(['install', package])\n",
    "\n",
    "install('requests') "
   ]
  },
  {
   "cell_type": "markdown",
   "metadata": {},
   "source": [
    "### Notebook Shortcuts \n",
    "\n",
    "A list of some useful ones:\n",
    "\n",
    "- `ctrl + enter` : run cell\n",
    "- `shift + enter` : run cell and create/select the one after\n",
    "- `ctrl + m` : enter command mode \n",
    "- `ctrl + s` :save notebook \n",
    "\n",
    "While in command mode the shortcuts work a bit different: \n",
    "\n",
    "- up/down arrows browser through different cells \n",
    "- `y` : changes cell to a code cell \n",
    "- `m` : changes cell to a markdown cell\n",
    "- `a` : create new cell above \n",
    "- `b` : create new cell below \n",
    "- `l` : toggle line numbers \n",
    "- `dd` : delete cell \n",
    "\n",
    "You can always access the docs/help by added the `?` in front of any function in python. You can escape this helper view by pressing `q`."
   ]
  },
  {
   "cell_type": "code",
   "execution_count": 4,
   "metadata": {
    "collapsed": false
   },
   "outputs": [],
   "source": [
    "?np.abs"
   ]
  },
  {
   "cell_type": "markdown",
   "metadata": {},
   "source": [
    "## Reminder of Python \n"
   ]
  },
  {
   "cell_type": "code",
   "execution_count": 5,
   "metadata": {
    "collapsed": false
   },
   "outputs": [
    {
     "name": "stdout",
     "output_type": "stream",
     "text": [
      "1\n",
      "2\n",
      "3\n",
      "2\n",
      "1\n"
     ]
    }
   ],
   "source": [
    "for i in [1,2,3,2,1]:\n",
    "    print(i)"
   ]
  },
  {
   "cell_type": "code",
   "execution_count": 6,
   "metadata": {
    "collapsed": false
   },
   "outputs": [
    {
     "name": "stdout",
     "output_type": "stream",
     "text": [
      "(0, 1)\n",
      "(1, 2)\n",
      "(2, 3)\n",
      "(3, 2)\n",
      "(4, 1)\n"
     ]
    }
   ],
   "source": [
    "for i,j in enumerate([1,2,3,2,1]):\n",
    "    print(i,j)"
   ]
  },
  {
   "cell_type": "code",
   "execution_count": 7,
   "metadata": {
    "collapsed": false
   },
   "outputs": [
    {
     "name": "stdout",
     "output_type": "stream",
     "text": [
      "2\n",
      "4\n",
      "6\n",
      "4\n",
      "2\n"
     ]
    }
   ],
   "source": [
    "def double(x):\n",
    "    return(x*2)\n",
    "\n",
    "for i in [1,2,3,2,1]:\n",
    "    print(double(i))"
   ]
  },
  {
   "cell_type": "code",
   "execution_count": 8,
   "metadata": {
    "collapsed": false
   },
   "outputs": [
    {
     "data": {
      "text/plain": [
       "[2, 4, 6, 4, 2]"
      ]
     },
     "execution_count": 8,
     "metadata": {},
     "output_type": "execute_result"
    }
   ],
   "source": [
    "[double(i) for i in [1,2,3,2,1]]"
   ]
  },
  {
   "cell_type": "code",
   "execution_count": 9,
   "metadata": {
    "collapsed": false
   },
   "outputs": [
    {
     "data": {
      "text/plain": [
       "[4, 4]"
      ]
     },
     "execution_count": 9,
     "metadata": {},
     "output_type": "execute_result"
    }
   ],
   "source": [
    "[double(i) for i in [1,2,3,2,1] if i % 2 == 0]"
   ]
  },
  {
   "cell_type": "code",
   "execution_count": 10,
   "metadata": {
    "collapsed": false
   },
   "outputs": [
    {
     "data": {
      "text/plain": [
       "[(0, 2), (1, 4), (2, 6), (3, 4), (4, 2)]"
      ]
     },
     "execution_count": 10,
     "metadata": {},
     "output_type": "execute_result"
    }
   ],
   "source": [
    "[(i, double(j)) for (i,j) in enumerate([1,2,3,2,1])]"
   ]
  },
  {
   "cell_type": "code",
   "execution_count": 11,
   "metadata": {
    "collapsed": false
   },
   "outputs": [
    {
     "name": "stdout",
     "output_type": "stream",
     "text": [
      "2\n",
      "4\n",
      "6\n",
      "4\n",
      "2\n"
     ]
    }
   ],
   "source": [
    "for i in map(double, [1,2,3,2,1]):\n",
    "    print(i)"
   ]
  },
  {
   "cell_type": "code",
   "execution_count": 12,
   "metadata": {
    "collapsed": false
   },
   "outputs": [
    {
     "name": "stdout",
     "output_type": "stream",
     "text": [
      "2\n",
      "4\n",
      "6\n",
      "4\n",
      "2\n"
     ]
    }
   ],
   "source": [
    "for i in map(lambda x: x*2, [1,2,3,2,1]):\n",
    "    print(i)"
   ]
  },
  {
   "cell_type": "markdown",
   "metadata": {},
   "source": [
    "## Key Lessons \n",
    "\n",
    "- list comprehensions are shorter and often simpler\n",
    "- it's ok to use forloops if you need them, but sometimes its better not to\n",
    "- map/apply type functions seperate concerns \n",
    "- there are usually multiple ways to do something\n",
    "- pick the obvious way of doing something but think about it\n",
    "\n",
    "## Lists and performance \n",
    "\n",
    "A downside of python is that because it is a dynamically typed language (no compiler, no types) we loose some performance. The numpy library is meant to counter this by giving us an API with python objects that call highly performant C-code so that we can still write python code for performant numerical problems. \n",
    "\n",
    "Let's check out the performance. We can use the `%%timeit` notebook magic. "
   ]
  },
  {
   "cell_type": "code",
   "execution_count": 13,
   "metadata": {
    "collapsed": false
   },
   "outputs": [
    {
     "name": "stdout",
     "output_type": "stream",
     "text": [
      "1000 loops, best of 3: 1.31 ms per loop\n"
     ]
    }
   ],
   "source": [
    "%%timeit \n",
    "sum(range(0,100000))"
   ]
  },
  {
   "cell_type": "code",
   "execution_count": 14,
   "metadata": {
    "collapsed": false
   },
   "outputs": [
    {
     "name": "stdout",
     "output_type": "stream",
     "text": [
      "100 loops, best of 3: 4.38 ms per loop\n"
     ]
    }
   ],
   "source": [
    "%%timeit \n",
    "sum([i for i in range(0,100000)])"
   ]
  },
  {
   "cell_type": "code",
   "execution_count": 15,
   "metadata": {
    "collapsed": false
   },
   "outputs": [
    {
     "name": "stdout",
     "output_type": "stream",
     "text": [
      "10000 loops, best of 3: 89.3 µs per loop\n"
     ]
    }
   ],
   "source": [
    "%%timeit\n",
    "np.sum(np.arange(0,100000))"
   ]
  },
  {
   "cell_type": "code",
   "execution_count": 16,
   "metadata": {
    "collapsed": false
   },
   "outputs": [
    {
     "name": "stdout",
     "output_type": "stream",
     "text": [
      "100 loops, best of 3: 12.9 ms per loop\n"
     ]
    }
   ],
   "source": [
    "%%timeit\n",
    "np.sum([i for i in range(0,100000)])"
   ]
  },
  {
   "cell_type": "code",
   "execution_count": 17,
   "metadata": {
    "collapsed": false
   },
   "outputs": [
    {
     "name": "stdout",
     "output_type": "stream",
     "text": [
      "10 loops, best of 3: 35.6 ms per loop\n"
     ]
    }
   ],
   "source": [
    "%%timeit\n",
    "sum(np.arange(0,100000))"
   ]
  },
  {
   "cell_type": "code",
   "execution_count": 18,
   "metadata": {
    "collapsed": false
   },
   "outputs": [
    {
     "name": "stdout",
     "output_type": "stream",
     "text": [
      "100 loops, best of 3: 4.6 ms per loop\n"
     ]
    }
   ],
   "source": [
    "%%timeit \n",
    "s = 0 \n",
    "for i in range(0,100000):\n",
    "    s = s + 1"
   ]
  },
  {
   "cell_type": "markdown",
   "metadata": {},
   "source": [
    "Keep all your functions restricted to numpy if you want performant code. The moment you mix python number lists with numpy arrays the code seems to drastically loose performance. Using the standard python sum function on a numpy array is the worst case! \n",
    "\n",
    "Similar conclusions can be made when dealing with vectorized operations."
   ]
  },
  {
   "cell_type": "code",
   "execution_count": 19,
   "metadata": {
    "collapsed": false
   },
   "outputs": [
    {
     "name": "stdout",
     "output_type": "stream",
     "text": [
      "100 loops, best of 3: 6.69 ms per loop\n"
     ]
    }
   ],
   "source": [
    "%%timeit \n",
    "[2*i for i in range(0,100000)]"
   ]
  },
  {
   "cell_type": "code",
   "execution_count": 20,
   "metadata": {
    "collapsed": false
   },
   "outputs": [
    {
     "name": "stdout",
     "output_type": "stream",
     "text": [
      "10000 loops, best of 3: 105 µs per loop\n"
     ]
    }
   ],
   "source": [
    "%%timeit\n",
    "np.arange(0,100000) * 2"
   ]
  },
  {
   "cell_type": "code",
   "execution_count": 21,
   "metadata": {
    "collapsed": false
   },
   "outputs": [
    {
     "name": "stdout",
     "output_type": "stream",
     "text": [
      "100 loops, best of 3: 11.7 ms per loop\n"
     ]
    }
   ],
   "source": [
    "%%timeit \n",
    "[math.sqrt(i) for i in range(0,100000)]"
   ]
  },
  {
   "cell_type": "code",
   "execution_count": 22,
   "metadata": {
    "collapsed": false
   },
   "outputs": [
    {
     "name": "stdout",
     "output_type": "stream",
     "text": [
      "1000 loops, best of 3: 343 µs per loop\n"
     ]
    }
   ],
   "source": [
    "%%timeit \n",
    "np.sqrt(np.arange(0,100000))"
   ]
  },
  {
   "cell_type": "markdown",
   "metadata": {},
   "source": [
    "The reason behind the performance cost has to do with type-checking/casting that needs to be done at runtime instead of compile time. Numpy will run precompiled BLAS/C-code, any combination with normal python code will therefor add overhead. This overhead may not be dreadful, but it is a thing to look for when code needs to get faster.\n",
    "\n",
    "Numpy arrays are different from python lists. You can easily cast between the two, but you should notice they will behave differently around operators. "
   ]
  },
  {
   "cell_type": "code",
   "execution_count": 23,
   "metadata": {
    "collapsed": false
   },
   "outputs": [
    {
     "name": "stdout",
     "output_type": "stream",
     "text": [
      "[1, 2, 3, 2, 1]\n",
      "[1 2 3 2 1]\n"
     ]
    }
   ],
   "source": [
    "py_arr = [1,2,3,2,1]\n",
    "np_arr = np.array(py_arr)\n",
    "print(py_arr)\n",
    "print(np_arr)"
   ]
  },
  {
   "cell_type": "code",
   "execution_count": 24,
   "metadata": {
    "collapsed": false
   },
   "outputs": [
    {
     "data": {
      "text/plain": [
       "[1, 2, 3, 2, 1, 1, 2, 3, 2, 1]"
      ]
     },
     "execution_count": 24,
     "metadata": {},
     "output_type": "execute_result"
    }
   ],
   "source": [
    "py_arr * 2"
   ]
  },
  {
   "cell_type": "code",
   "execution_count": 25,
   "metadata": {
    "collapsed": false
   },
   "outputs": [
    {
     "data": {
      "text/plain": [
       "array([2, 4, 6, 4, 2])"
      ]
     },
     "execution_count": 25,
     "metadata": {},
     "output_type": "execute_result"
    }
   ],
   "source": [
    "np_arr * 2"
   ]
  },
  {
   "cell_type": "code",
   "execution_count": 49,
   "metadata": {
    "collapsed": false
   },
   "outputs": [
    {
     "data": {
      "text/plain": [
       "[1, 2, 3, 2, 1, 1, 2, 3, 2, 1, 1, 2, 3, 2, 1]"
      ]
     },
     "execution_count": 49,
     "metadata": {},
     "output_type": "execute_result"
    }
   ],
   "source": [
    "py_arr + py_arr * 2"
   ]
  },
  {
   "cell_type": "code",
   "execution_count": 51,
   "metadata": {
    "collapsed": false
   },
   "outputs": [
    {
     "data": {
      "text/plain": [
       "array([2, 4, 6, 4, 2])"
      ]
     },
     "execution_count": 51,
     "metadata": {},
     "output_type": "execute_result"
    }
   ],
   "source": [
    "np_arr + np_arr"
   ]
  },
  {
   "cell_type": "markdown",
   "metadata": {},
   "source": [
    "If you want to know what type the numpy array contains, you may use: "
   ]
  },
  {
   "cell_type": "code",
   "execution_count": 26,
   "metadata": {
    "collapsed": false
   },
   "outputs": [
    {
     "name": "stdout",
     "output_type": "stream",
     "text": [
      "int64\n",
      "(5,)\n"
     ]
    }
   ],
   "source": [
    "print(np_arr.dtype)\n",
    "print(np_arr.shape)"
   ]
  },
  {
   "cell_type": "markdown",
   "metadata": {},
   "source": [
    "You can also change the contents of the array and numpy will update the datatype."
   ]
  },
  {
   "cell_type": "code",
   "execution_count": 27,
   "metadata": {
    "collapsed": false
   },
   "outputs": [
    {
     "data": {
      "text/plain": [
       "dtype('float64')"
      ]
     },
     "execution_count": 27,
     "metadata": {},
     "output_type": "execute_result"
    }
   ],
   "source": [
    "np.array([1.0, 2.5]).dtype"
   ]
  },
  {
   "cell_type": "code",
   "execution_count": 28,
   "metadata": {
    "collapsed": false
   },
   "outputs": [
    {
     "data": {
      "text/plain": [
       "dtype('S18')"
      ]
     },
     "execution_count": 28,
     "metadata": {},
     "output_type": "execute_result"
    }
   ],
   "source": [
    "np.array(['as dwarves we want','more','profit']).dtype"
   ]
  },
  {
   "cell_type": "markdown",
   "metadata": {},
   "source": [
    "There are [many](http://docs.scipy.org/doc/numpy/reference/generated/numpy.dtype.html) datatypes out there. For today, we will only focus on numerical `float64` arrays and matrices. \n",
    "\n",
    "You can declare arrays very easily in numpy. Here are some common initialization functions."
   ]
  },
  {
   "cell_type": "code",
   "execution_count": 29,
   "metadata": {
    "collapsed": false
   },
   "outputs": [
    {
     "data": {
      "text/plain": [
       "array([[ 0.,  0.,  0.],\n",
       "       [ 0.,  0.,  0.],\n",
       "       [ 0.,  0.,  0.]])"
      ]
     },
     "execution_count": 29,
     "metadata": {},
     "output_type": "execute_result"
    }
   ],
   "source": [
    "np.zeros([3,3])"
   ]
  },
  {
   "cell_type": "code",
   "execution_count": 30,
   "metadata": {
    "collapsed": false
   },
   "outputs": [
    {
     "data": {
      "text/plain": [
       "array([ 1.,  1.,  1.])"
      ]
     },
     "execution_count": 30,
     "metadata": {},
     "output_type": "execute_result"
    }
   ],
   "source": [
    "np.ones(3)"
   ]
  },
  {
   "cell_type": "code",
   "execution_count": 31,
   "metadata": {
    "collapsed": false
   },
   "outputs": [
    {
     "data": {
      "text/plain": [
       "array([[ 1.,  0.,  0.],\n",
       "       [ 0.,  1.,  0.],\n",
       "       [ 0.,  0.,  1.]])"
      ]
     },
     "execution_count": 31,
     "metadata": {},
     "output_type": "execute_result"
    }
   ],
   "source": [
    "np.eye(3)"
   ]
  },
  {
   "cell_type": "code",
   "execution_count": 32,
   "metadata": {
    "collapsed": false
   },
   "outputs": [
    {
     "data": {
      "text/plain": [
       "array([ 1. ,  1.5,  2. ,  2.5,  3. ,  3.5,  4. ,  4.5,  5. ,  5.5,  6. ,\n",
       "        6.5,  7. ,  7.5,  8. ,  8.5,  9. ,  9.5])"
      ]
     },
     "execution_count": 32,
     "metadata": {},
     "output_type": "execute_result"
    }
   ],
   "source": [
    "np.arange(1,10,0.5)"
   ]
  },
  {
   "cell_type": "code",
   "execution_count": 33,
   "metadata": {
    "collapsed": false
   },
   "outputs": [
    {
     "data": {
      "text/plain": [
       "array([  1.        ,   1.47368421,   1.94736842,   2.42105263,\n",
       "         2.89473684,   3.36842105,   3.84210526,   4.31578947,\n",
       "         4.78947368,   5.26315789,   5.73684211,   6.21052632,\n",
       "         6.68421053,   7.15789474,   7.63157895,   8.10526316,\n",
       "         8.57894737,   9.05263158,   9.52631579,  10.        ])"
      ]
     },
     "execution_count": 33,
     "metadata": {},
     "output_type": "execute_result"
    }
   ],
   "source": [
    "np.linspace(1,10, 20)"
   ]
  },
  {
   "cell_type": "code",
   "execution_count": 34,
   "metadata": {
    "collapsed": false
   },
   "outputs": [
    {
     "data": {
      "text/plain": [
       "array([  1.00000000e+01,   1.00000000e+02,   1.00000000e+03,\n",
       "         1.00000000e+04,   1.00000000e+05,   1.00000000e+06,\n",
       "         1.00000000e+07])"
      ]
     },
     "execution_count": 34,
     "metadata": {},
     "output_type": "execute_result"
    }
   ],
   "source": [
    "np.logspace(1, 7, num=7, base=10)"
   ]
  },
  {
   "cell_type": "code",
   "execution_count": 35,
   "metadata": {
    "collapsed": false
   },
   "outputs": [
    {
     "data": {
      "text/plain": [
       "array([[ 0,  1,  2,  3,  4],\n",
       "       [ 5,  6,  7,  8,  9],\n",
       "       [10, 11, 12, 13, 14]])"
      ]
     },
     "execution_count": 35,
     "metadata": {},
     "output_type": "execute_result"
    }
   ],
   "source": [
    "np.arange(15).reshape([3,5])"
   ]
  },
  {
   "cell_type": "markdown",
   "metadata": {},
   "source": [
    "As stated before, we can do vectorized operations on these arrays as if we are doing true mathematical operators on them. If you remember your linear algebra from college, the following might feel more familiar."
   ]
  },
  {
   "cell_type": "code",
   "execution_count": 36,
   "metadata": {
    "collapsed": false
   },
   "outputs": [
    {
     "data": {
      "text/plain": [
       "array([ 2.2,  4.5,  6.2])"
      ]
     },
     "execution_count": 36,
     "metadata": {},
     "output_type": "execute_result"
    }
   ],
   "source": [
    "np_nums = np.array([1.2, 3.5, 5.2])\n",
    "np_nums + 1"
   ]
  },
  {
   "cell_type": "code",
   "execution_count": 37,
   "metadata": {
    "collapsed": false
   },
   "outputs": [
    {
     "data": {
      "text/plain": [
       "array([ 0.,  0.,  0.])"
      ]
     },
     "execution_count": 37,
     "metadata": {},
     "output_type": "execute_result"
    }
   ],
   "source": [
    "np_nums - np_nums"
   ]
  },
  {
   "cell_type": "code",
   "execution_count": 38,
   "metadata": {
    "collapsed": false
   },
   "outputs": [
    {
     "data": {
      "text/plain": [
       "array([[ 1.,  0.,  0.],\n",
       "       [ 0.,  1.,  0.],\n",
       "       [ 0.,  0.,  1.]])"
      ]
     },
     "execution_count": 38,
     "metadata": {},
     "output_type": "execute_result"
    }
   ],
   "source": [
    "np.eye(3)"
   ]
  },
  {
   "cell_type": "code",
   "execution_count": 39,
   "metadata": {
    "collapsed": false
   },
   "outputs": [
    {
     "data": {
      "text/plain": [
       "array([[ 1.2,  0. ,  0. ],\n",
       "       [ 0. ,  3.5,  0. ],\n",
       "       [ 0. ,  0. ,  5.2]])"
      ]
     },
     "execution_count": 39,
     "metadata": {},
     "output_type": "execute_result"
    }
   ],
   "source": [
    "np_nums * np.eye(3)"
   ]
  },
  {
   "cell_type": "markdown",
   "metadata": {},
   "source": [
    "You can also slice/dice/select numbers easily."
   ]
  },
  {
   "cell_type": "code",
   "execution_count": 40,
   "metadata": {
    "collapsed": false
   },
   "outputs": [
    {
     "data": {
      "text/plain": [
       "4"
      ]
     },
     "execution_count": 40,
     "metadata": {},
     "output_type": "execute_result"
    }
   ],
   "source": [
    "arr = np.array([9,4,3,5,2,1,5,3])\n",
    "arr[1]"
   ]
  },
  {
   "cell_type": "code",
   "execution_count": 41,
   "metadata": {
    "collapsed": false
   },
   "outputs": [
    {
     "data": {
      "text/plain": [
       "array([4, 3, 5, 2])"
      ]
     },
     "execution_count": 41,
     "metadata": {},
     "output_type": "execute_result"
    }
   ],
   "source": [
    "arr[1:5]"
   ]
  },
  {
   "cell_type": "code",
   "execution_count": 42,
   "metadata": {
    "collapsed": false
   },
   "outputs": [
    {
     "data": {
      "text/plain": [
       "array([9, 3, 3, 3, 3, 1, 5, 3])"
      ]
     },
     "execution_count": 42,
     "metadata": {},
     "output_type": "execute_result"
    }
   ],
   "source": [
    "arr[1:5] = 3 \n",
    "arr "
   ]
  },
  {
   "cell_type": "code",
   "execution_count": 43,
   "metadata": {
    "collapsed": false
   },
   "outputs": [
    {
     "data": {
      "text/plain": [
       "array([False,  True,  True,  True,  True, False, False,  True], dtype=bool)"
      ]
     },
     "execution_count": 43,
     "metadata": {},
     "output_type": "execute_result"
    }
   ],
   "source": [
    "arr == 3"
   ]
  },
  {
   "cell_type": "code",
   "execution_count": 44,
   "metadata": {
    "collapsed": false
   },
   "outputs": [
    {
     "data": {
      "text/plain": [
       "array([9, 1, 5])"
      ]
     },
     "execution_count": 44,
     "metadata": {},
     "output_type": "execute_result"
    }
   ],
   "source": [
    "arr[arr != 3]"
   ]
  },
  {
   "cell_type": "code",
   "execution_count": 45,
   "metadata": {
    "collapsed": false
   },
   "outputs": [
    {
     "data": {
      "text/plain": [
       "array([[-1.36950603,  1.43554151, -1.14432941, -0.20742087],\n",
       "       [-0.43689389,  0.66257023, -0.26525248,  0.50035787],\n",
       "       [ 0.37109136, -1.87358786,  1.1844844 , -0.41269869],\n",
       "       [-0.30787984,  0.48506586,  0.58243346,  0.93661386]])"
      ]
     },
     "execution_count": 45,
     "metadata": {},
     "output_type": "execute_result"
    }
   ],
   "source": [
    "ran = np.random.normal(0,1,[4,4])\n",
    "ran"
   ]
  },
  {
   "cell_type": "code",
   "execution_count": 46,
   "metadata": {
    "collapsed": false
   },
   "outputs": [
    {
     "data": {
      "text/plain": [
       "array([[ 0.        ,  1.43554151,  0.        ,  0.        ],\n",
       "       [ 0.        ,  0.66257023,  0.        ,  0.50035787],\n",
       "       [ 0.37109136,  0.        ,  1.1844844 ,  0.        ],\n",
       "       [ 0.        ,  0.48506586,  0.58243346,  0.93661386]])"
      ]
     },
     "execution_count": 46,
     "metadata": {},
     "output_type": "execute_result"
    }
   ],
   "source": [
    "ran[ran < 0] = 0 \n",
    "ran"
   ]
  },
  {
   "cell_type": "markdown",
   "metadata": {},
   "source": [
    "## Plotting with numpy\n",
    "\n",
    "I found another nice riddle. \n",
    "\n",
    "> When there's a wind blowing, quite a strong one. It is blowing in the same direction as the flightpath between two cities. Does a round-trip by plane take more time, less time, or the same time when there is a strong wind? \n",
    "\n",
    "Let's go and use full on math for this one. Denote $v$ the speed of the airplane and let $w$ be the effect on the speed caused by the wind. Then the time to get from A to B and the time to get from B to A is defined via: \n",
    "\n",
    "\\begin{align} \n",
    "t_{AB}& = \\frac{d}{v+w}\\\\ \n",
    "t_{BA}& = \\frac{d}{v-w} \n",
    "\\end{align}\n",
    "\n",
    "The direction of the wind is not that important as long as the wind remains in the same direction. Notice then that the total time needed make a round trip becomes: \n",
    "\n",
    "\\begin{align} \n",
    "T  = t_{AB} + t_{BA}& = \\frac{d}{v+w} + \\frac{d}{v-w}\\\\ \n",
    "& = d \\frac{(v-w)+(v+w)}{(v+w)(v-w)}\\\\\n",
    "& = 2d \\frac{v}{v^2-w^2}\\\\\n",
    "T(w)& = 2d \\frac{v}{v^2-w^2}\n",
    "\\end{align}\n",
    "\n",
    "Let's go and plot this. "
   ]
  },
  {
   "cell_type": "code",
   "execution_count": 47,
   "metadata": {
    "collapsed": false
   },
   "outputs": [],
   "source": [
    "w = np.arange(-99, 99, 0.1)\n",
    "v = 100 \n",
    "d = 1200\n",
    "t = 2 * d * v / (v**2 - w**2)"
   ]
  },
  {
   "cell_type": "code",
   "execution_count": 54,
   "metadata": {
    "collapsed": false,
    "scrolled": true
   },
   "outputs": [
    {
     "data": {
      "text/plain": [
       "[<matplotlib.lines.Line2D at 0x107103d50>]"
      ]
     },
     "execution_count": 54,
     "metadata": {},
     "output_type": "execute_result"
    },
    {
     "data": {
      "image/png": "[encoded data removed]",
      "text/plain": [
       "<matplotlib.figure.Figure at 0x106f7d590>"
      ]
     },
     "metadata": {},
     "output_type": "display_data"
    }
   ],
   "source": [
    "plt.plot(t, 'o')"
   ]
  },
  {
   "cell_type": "markdown",
   "metadata": {},
   "source": [
    "When $v$ starts to resemble $w$ the traveling time goes to infinity, which makes sense. \n",
    "\n",
    "The main point though, is that our single line of code that is calculating all this is very elegant: \n",
    "\n",
    "    t = 2 * d * v / (v**2 - w**2)\n",
    "    \n",
    "If you are used to working with maths the vectorized operations aren't just very performant, they are also very elegant in writing.It is also nice that we have a simple method for plotting simple charts. In general, people like looking at charts much more than they like looking at formulas. \n",
    "\n",
    "## Simulation \n",
    "\n",
    "Numpy has great support for random number generation. Here's a few results from random generated sequences. \n",
    "\n",
    "#### Uniform Distribution"
   ]
  },
  {
   "cell_type": "code",
   "execution_count": 55,
   "metadata": {
    "collapsed": false
   },
   "outputs": [
    {
     "data": {
      "image/png": "[encoded data removed]",
      "text/plain": [
       "<matplotlib.figure.Figure at 0x106f5fc10>"
      ]
     },
     "metadata": {},
     "output_type": "display_data"
    }
   ],
   "source": [
    "rns = np.random.uniform(0,1,10000)\n",
    "_ = plt.hist(rns, color=\"steelblue\", bins=20)"
   ]
  },
  {
   "cell_type": "markdown",
   "metadata": {},
   "source": [
    "####Normal Distribution"
   ]
  },
  {
   "cell_type": "code",
   "execution_count": 57,
   "metadata": {
    "collapsed": false
   },
   "outputs": [
    {
     "data": {
      "image/png": "[encoded data removed]",
      "text/plain": [
       "<matplotlib.figure.Figure at 0x10741eed0>"
      ]
     },
     "metadata": {},
     "output_type": "display_data"
    }
   ],
   "source": [
    "rns = np.random.normal(0,1,10000)\n",
    "_ = plt.hist(rns, color=\"steelblue\", bins=20)"
   ]
  },
  {
   "cell_type": "markdown",
   "metadata": {},
   "source": [
    "####Random Integer Distribution"
   ]
  },
  {
   "cell_type": "code",
   "execution_count": 58,
   "metadata": {
    "collapsed": false
   },
   "outputs": [
    {
     "data": {
      "image/png": "[encoded data removed]",
      "text/plain": [
       "<matplotlib.figure.Figure at 0x1071682d0>"
      ]
     },
     "metadata": {},
     "output_type": "display_data"
    }
   ],
   "source": [
    "rns = np.random.randint(1,4,10000)\n",
    "_ = plt.hist(rns, color=\"steelblue\", bins=16)"
   ]
  },
  {
   "cell_type": "markdown",
   "metadata": {},
   "source": [
    "####Binomial Distribution"
   ]
  },
  {
   "cell_type": "code",
   "execution_count": 59,
   "metadata": {
    "collapsed": false
   },
   "outputs": [
    {
     "data": {
      "image/png": "[encoded data removed]",
      "text/plain": [
       "<matplotlib.figure.Figure at 0x10735c790>"
      ]
     },
     "metadata": {},
     "output_type": "display_data"
    }
   ],
   "source": [
    "rns = np.random.binomial(1,0.33,10000)\n",
    "_ = plt.hist(rns, color=\"steelblue\", bins=10)"
   ]
  },
  {
   "cell_type": "code",
   "execution_count": 60,
   "metadata": {
    "collapsed": false
   },
   "outputs": [
    {
     "data": {
      "image/png": "[encoded data removed]",
      "text/plain": [
       "<matplotlib.figure.Figure at 0x107153cd0>"
      ]
     },
     "metadata": {},
     "output_type": "display_data"
    }
   ],
   "source": [
    "rns = np.random.binomial(10,0.33,10000)\n",
    "_ = plt.hist(rns, color=\"steelblue\", bins=10)"
   ]
  },
  {
   "cell_type": "markdown",
   "metadata": {},
   "source": [
    "### Assignments Till Break / Before Pandas\n",
    "\n",
    "Here is a small list of some assignments. You may want to consult the numpy documentation to see if there are helper functions that can make your life a lot easier. \n",
    "\n",
    "1. Create 1000 random uniform numbers and find out what the largest number is. \n",
    "2. Estimate the probability that a random normal value lies between 0.1 and 0.5.\n",
    "3. Calculate the mean of 1000 random values. Is this what you expected? \n",
    "4. Use simulation to estimate the probability that two people in this room have the same birthday. \n",
    "\n",
    "### Solution to last problem "
   ]
  },
  {
   "cell_type": "code",
   "execution_count": 6,
   "metadata": {
    "collapsed": false
   },
   "outputs": [],
   "source": [
    "def sim_same_birthday(num_people):\n",
    "    # return True if a birthday overlaps, False otherwise\n",
    "    r = np.random.randint(1, 366, num_people)\n",
    "    return np.unique(r).shape[0] < num_people\n",
    "\n",
    "def estimate_prob(num_people, n_sim=10000):\n",
    "    simulations = [sim_same_birthday(num_people) for i in range(n_sim)]\n",
    "    return sum(simulations)/float(n_sim)"
   ]
  },
  {
   "cell_type": "code",
   "execution_count": 7,
   "metadata": {
    "collapsed": false
   },
   "outputs": [
    {
     "data": {
      "text/plain": [
       "0.6263"
      ]
     },
     "execution_count": 7,
     "metadata": {},
     "output_type": "execute_result"
    }
   ],
   "source": [
    "estimate_prob(27)"
   ]
  },
  {
   "cell_type": "markdown",
   "metadata": {},
   "source": [
    "We will now vary the number of people in the room, how will the probability change?"
   ]
  },
  {
   "cell_type": "code",
   "execution_count": 119,
   "metadata": {
    "collapsed": false
   },
   "outputs": [],
   "source": [
    "res = np.array([])\n",
    "num_people = 30 \n",
    "\n",
    "for num_people in range(0,100):\n",
    "    res = np.append(res, estimate_prob(num_people))"
   ]
  },
  {
   "cell_type": "markdown",
   "metadata": {},
   "source": [
    "We now have the simulated results for any number of people in the group. Let's also calculate the theoretical probability and compare it to our simulated results."
   ]
  },
  {
   "cell_type": "code",
   "execution_count": 130,
   "metadata": {
    "collapsed": false
   },
   "outputs": [
    {
     "data": {
      "text/plain": [
       "[<matplotlib.lines.Line2D at 0x107bd2d90>,\n",
       " <matplotlib.lines.Line2D at 0x107bdf050>]"
      ]
     },
     "execution_count": 130,
     "metadata": {},
     "output_type": "execute_result"
    },
    {
     "data": {
      "image/png": "[encoded data removed]",
      "text/plain": [
       "<matplotlib.figure.Figure at 0x1079d6cd0>"
      ]
     },
     "metadata": {},
     "output_type": "display_data"
    }
   ],
   "source": [
    "theoretical = 1 - np.cumprod((1 - np.arange(0,100)/365.0))\n",
    "plt.plot(np.array([res, theoretical]).T, alpha=0.8)"
   ]
  },
  {
   "cell_type": "markdown",
   "metadata": {},
   "source": [
    "For larger values of `n_sim` we expect to be closer to the true value, but we can see that simulation can have it's value if the problem is hard to mathematically derive. Play around with `n_sim` if you want to see the effect of sample sizes. "
   ]
  },
  {
   "cell_type": "markdown",
   "metadata": {},
   "source": [
    "# BREAK \n",
    "\n",
    "## Pandas\n",
    "\n",
    "Numpy is very performant and useful but it doesn't resemble a sheet of data with rows and columns as much as we'd like. It's more like an array or a matrix. This is fine for the more sciency applications but it is less ideal for the applications where we are analysing a datasheet that you've been handed. \n",
    "\n",
    "Back in the day before code, this meant that you needed to use your mouse and click away in excel. \n",
    "\n",
    "![](http://www.quickmeme.com/img/35/3521d93d07b8a623d83663e3ad79407b5cebeaedc55f21d0be591290330f656c.jpg)\n",
    "\n",
    "Thankfully, we have pandas and python nowadays. The syntax of pandas is mostly similar to numpy, so let's get familiar with it."
   ]
  },
  {
   "cell_type": "code",
   "execution_count": 55,
   "metadata": {
    "collapsed": false
   },
   "outputs": [
    {
     "data": {
      "text/plain": [
       "0   -0.139232\n",
       "1    1.853622\n",
       "2   -0.502512\n",
       "3   -0.927622\n",
       "4   -1.012169\n",
       "5    1.951794\n",
       "6    0.815848\n",
       "7   -0.261483\n",
       "8   -2.494320\n",
       "9   -0.148075\n",
       "dtype: float64"
      ]
     },
     "execution_count": 55,
     "metadata": {},
     "output_type": "execute_result"
    }
   ],
   "source": [
    "a = np.random.randn(10)\n",
    "pd.Series(a)"
   ]
  },
  {
   "cell_type": "markdown",
   "metadata": {},
   "source": [
    "Notice that this is just like our numpy array but that we get an index attached. In this case the index is numeric, but it could even be a date or a string. As long as it is sortable and unique for each row, it can probably be used as an index."
   ]
  },
  {
   "cell_type": "code",
   "execution_count": 56,
   "metadata": {
    "collapsed": false
   },
   "outputs": [
    {
     "data": {
      "text/plain": [
       "{'b': array([-1.7906526 , -1.34761142,  1.38842115, -0.62252441,  1.55530802,\n",
       "         1.12046039, -0.00401563, -0.05004921,  0.43479804,  0.52035275]),\n",
       " 'a': array([-1.41107143, -1.58859416, -1.88519431, -1.38349794, -0.29303002,\n",
       "         1.32640887,  1.41969707, -0.80874054, -0.47603369, -0.98340024]),\n",
       " 'c': ['bar', 'foo', 'foo', 'bar', 'foo', 'foo', 'foo', 'foo', 'foo', 'foo']}"
      ]
     },
     "execution_count": 56,
     "metadata": {},
     "output_type": "execute_result"
    }
   ],
   "source": [
    "a = np.random.randn(10)\n",
    "b = np.random.randn(10)\n",
    "c = [ 'foo' if x > 0.5 else 'bar' for x in np.random.rand(10)]\n",
    "d = {'a':a, 'b':b, 'c':c} \n",
    "d"
   ]
  },
  {
   "cell_type": "markdown",
   "metadata": {},
   "source": [
    "We have just created a dictionary. Pandas can convert these into series via the `DataFrame` function. A dataframe can be seen as a table where each of the series represent columns. The index of the series represents the rownumber. \n",
    "\n",
    "This DataFrame object will be the main object you will talk to when using pandas."
   ]
  },
  {
   "cell_type": "code",
   "execution_count": 57,
   "metadata": {
    "collapsed": false
   },
   "outputs": [
    {
     "data": {
      "text/html": [
       "<div style=\"max-height:1000px;max-width:1500px;overflow:auto;\">\n",
       "<table border=\"1\" class=\"dataframe\">\n",
       "  <thead>\n",
       "    <tr style=\"text-align: right;\">\n",
       "      <th></th>\n",
       "      <th>a</th>\n",
       "      <th>b</th>\n",
       "      <th>c</th>\n",
       "    </tr>\n",
       "  </thead>\n",
       "  <tbody>\n",
       "    <tr>\n",
       "      <th>0</th>\n",
       "      <td>-1.411071</td>\n",
       "      <td>-1.790653</td>\n",
       "      <td> bar</td>\n",
       "    </tr>\n",
       "    <tr>\n",
       "      <th>1</th>\n",
       "      <td>-1.588594</td>\n",
       "      <td>-1.347611</td>\n",
       "      <td> foo</td>\n",
       "    </tr>\n",
       "    <tr>\n",
       "      <th>2</th>\n",
       "      <td>-1.885194</td>\n",
       "      <td> 1.388421</td>\n",
       "      <td> foo</td>\n",
       "    </tr>\n",
       "    <tr>\n",
       "      <th>3</th>\n",
       "      <td>-1.383498</td>\n",
       "      <td>-0.622524</td>\n",
       "      <td> bar</td>\n",
       "    </tr>\n",
       "    <tr>\n",
       "      <th>4</th>\n",
       "      <td>-0.293030</td>\n",
       "      <td> 1.555308</td>\n",
       "      <td> foo</td>\n",
       "    </tr>\n",
       "    <tr>\n",
       "      <th>5</th>\n",
       "      <td> 1.326409</td>\n",
       "      <td> 1.120460</td>\n",
       "      <td> foo</td>\n",
       "    </tr>\n",
       "    <tr>\n",
       "      <th>6</th>\n",
       "      <td> 1.419697</td>\n",
       "      <td>-0.004016</td>\n",
       "      <td> foo</td>\n",
       "    </tr>\n",
       "    <tr>\n",
       "      <th>7</th>\n",
       "      <td>-0.808741</td>\n",
       "      <td>-0.050049</td>\n",
       "      <td> foo</td>\n",
       "    </tr>\n",
       "    <tr>\n",
       "      <th>8</th>\n",
       "      <td>-0.476034</td>\n",
       "      <td> 0.434798</td>\n",
       "      <td> foo</td>\n",
       "    </tr>\n",
       "    <tr>\n",
       "      <th>9</th>\n",
       "      <td>-0.983400</td>\n",
       "      <td> 0.520353</td>\n",
       "      <td> foo</td>\n",
       "    </tr>\n",
       "  </tbody>\n",
       "</table>\n",
       "</div>"
      ],
      "text/plain": [
       "          a         b    c\n",
       "0 -1.411071 -1.790653  bar\n",
       "1 -1.588594 -1.347611  foo\n",
       "2 -1.885194  1.388421  foo\n",
       "3 -1.383498 -0.622524  bar\n",
       "4 -0.293030  1.555308  foo\n",
       "5  1.326409  1.120460  foo\n",
       "6  1.419697 -0.004016  foo\n",
       "7 -0.808741 -0.050049  foo\n",
       "8 -0.476034  0.434798  foo\n",
       "9 -0.983400  0.520353  foo"
      ]
     },
     "execution_count": 57,
     "metadata": {},
     "output_type": "execute_result"
    }
   ],
   "source": [
    "df = pd.DataFrame(d) \n",
    "df"
   ]
  },
  {
   "cell_type": "markdown",
   "metadata": {},
   "source": [
    "### Some simple queries you could make to a DataFrame "
   ]
  },
  {
   "cell_type": "code",
   "execution_count": 58,
   "metadata": {
    "collapsed": false
   },
   "outputs": [
    {
     "data": {
      "text/plain": [
       "0   -1.411071\n",
       "1   -1.588594\n",
       "2   -1.885194\n",
       "3   -1.383498\n",
       "4   -0.293030\n",
       "5    1.326409\n",
       "6    1.419697\n",
       "7   -0.808741\n",
       "8   -0.476034\n",
       "9   -0.983400\n",
       "Name: a, dtype: float64"
      ]
     },
     "execution_count": 58,
     "metadata": {},
     "output_type": "execute_result"
    }
   ],
   "source": [
    "df['a']"
   ]
  },
  {
   "cell_type": "code",
   "execution_count": 59,
   "metadata": {
    "collapsed": false
   },
   "outputs": [
    {
     "data": {
      "text/plain": [
       "0     True\n",
       "1     True\n",
       "2     True\n",
       "3     True\n",
       "4     True\n",
       "5    False\n",
       "6    False\n",
       "7     True\n",
       "8     True\n",
       "9     True\n",
       "Name: a, dtype: bool"
      ]
     },
     "execution_count": 59,
     "metadata": {},
     "output_type": "execute_result"
    }
   ],
   "source": [
    "df['a'] < 0"
   ]
  },
  {
   "cell_type": "code",
   "execution_count": 60,
   "metadata": {
    "collapsed": false
   },
   "outputs": [
    {
     "data": {
      "text/html": [
       "<div style=\"max-height:1000px;max-width:1500px;overflow:auto;\">\n",
       "<table border=\"1\" class=\"dataframe\">\n",
       "  <thead>\n",
       "    <tr style=\"text-align: right;\">\n",
       "      <th></th>\n",
       "      <th>a</th>\n",
       "      <th>b</th>\n",
       "      <th>c</th>\n",
       "      <th>e</th>\n",
       "    </tr>\n",
       "  </thead>\n",
       "  <tbody>\n",
       "    <tr>\n",
       "      <th>0</th>\n",
       "      <td>-1.411071</td>\n",
       "      <td>-1.790653</td>\n",
       "      <td> bar</td>\n",
       "      <td>-0.411071</td>\n",
       "    </tr>\n",
       "    <tr>\n",
       "      <th>1</th>\n",
       "      <td>-1.588594</td>\n",
       "      <td>-1.347611</td>\n",
       "      <td> foo</td>\n",
       "      <td>-0.588594</td>\n",
       "    </tr>\n",
       "    <tr>\n",
       "      <th>2</th>\n",
       "      <td>-1.885194</td>\n",
       "      <td> 1.388421</td>\n",
       "      <td> foo</td>\n",
       "      <td>-0.885194</td>\n",
       "    </tr>\n",
       "    <tr>\n",
       "      <th>3</th>\n",
       "      <td>-1.383498</td>\n",
       "      <td>-0.622524</td>\n",
       "      <td> bar</td>\n",
       "      <td>-0.383498</td>\n",
       "    </tr>\n",
       "    <tr>\n",
       "      <th>4</th>\n",
       "      <td>-0.293030</td>\n",
       "      <td> 1.555308</td>\n",
       "      <td> foo</td>\n",
       "      <td> 0.706970</td>\n",
       "    </tr>\n",
       "    <tr>\n",
       "      <th>5</th>\n",
       "      <td> 1.326409</td>\n",
       "      <td> 1.120460</td>\n",
       "      <td> foo</td>\n",
       "      <td> 2.326409</td>\n",
       "    </tr>\n",
       "    <tr>\n",
       "      <th>6</th>\n",
       "      <td> 1.419697</td>\n",
       "      <td>-0.004016</td>\n",
       "      <td> foo</td>\n",
       "      <td> 2.419697</td>\n",
       "    </tr>\n",
       "    <tr>\n",
       "      <th>7</th>\n",
       "      <td>-0.808741</td>\n",
       "      <td>-0.050049</td>\n",
       "      <td> foo</td>\n",
       "      <td> 0.191259</td>\n",
       "    </tr>\n",
       "    <tr>\n",
       "      <th>8</th>\n",
       "      <td>-0.476034</td>\n",
       "      <td> 0.434798</td>\n",
       "      <td> foo</td>\n",
       "      <td> 0.523966</td>\n",
       "    </tr>\n",
       "    <tr>\n",
       "      <th>9</th>\n",
       "      <td>-0.983400</td>\n",
       "      <td> 0.520353</td>\n",
       "      <td> foo</td>\n",
       "      <td> 0.016600</td>\n",
       "    </tr>\n",
       "  </tbody>\n",
       "</table>\n",
       "</div>"
      ],
      "text/plain": [
       "          a         b    c         e\n",
       "0 -1.411071 -1.790653  bar -0.411071\n",
       "1 -1.588594 -1.347611  foo -0.588594\n",
       "2 -1.885194  1.388421  foo -0.885194\n",
       "3 -1.383498 -0.622524  bar -0.383498\n",
       "4 -0.293030  1.555308  foo  0.706970\n",
       "5  1.326409  1.120460  foo  2.326409\n",
       "6  1.419697 -0.004016  foo  2.419697\n",
       "7 -0.808741 -0.050049  foo  0.191259\n",
       "8 -0.476034  0.434798  foo  0.523966\n",
       "9 -0.983400  0.520353  foo  0.016600"
      ]
     },
     "execution_count": 60,
     "metadata": {},
     "output_type": "execute_result"
    }
   ],
   "source": [
    "df['e'] = 1 + df.a\n",
    "df"
   ]
  },
  {
   "cell_type": "code",
   "execution_count": 61,
   "metadata": {
    "collapsed": false
   },
   "outputs": [
    {
     "data": {
      "text/html": [
       "<div style=\"max-height:1000px;max-width:1500px;overflow:auto;\">\n",
       "<table border=\"1\" class=\"dataframe\">\n",
       "  <thead>\n",
       "    <tr style=\"text-align: right;\">\n",
       "      <th></th>\n",
       "      <th>a</th>\n",
       "      <th>b</th>\n",
       "      <th>c</th>\n",
       "      <th>e</th>\n",
       "    </tr>\n",
       "  </thead>\n",
       "  <tbody>\n",
       "    <tr>\n",
       "      <th>0</th>\n",
       "      <td>-1.411071</td>\n",
       "      <td>-1.790653</td>\n",
       "      <td> bar</td>\n",
       "      <td>-0.411071</td>\n",
       "    </tr>\n",
       "    <tr>\n",
       "      <th>1</th>\n",
       "      <td>-1.588594</td>\n",
       "      <td>-1.347611</td>\n",
       "      <td> foo</td>\n",
       "      <td>-0.588594</td>\n",
       "    </tr>\n",
       "    <tr>\n",
       "      <th>2</th>\n",
       "      <td>-1.885194</td>\n",
       "      <td> 1.388421</td>\n",
       "      <td> foo</td>\n",
       "      <td>-0.885194</td>\n",
       "    </tr>\n",
       "    <tr>\n",
       "      <th>3</th>\n",
       "      <td>-1.383498</td>\n",
       "      <td>-0.622524</td>\n",
       "      <td> bar</td>\n",
       "      <td>-0.383498</td>\n",
       "    </tr>\n",
       "    <tr>\n",
       "      <th>4</th>\n",
       "      <td>-0.293030</td>\n",
       "      <td> 1.555308</td>\n",
       "      <td> foo</td>\n",
       "      <td> 0.706970</td>\n",
       "    </tr>\n",
       "    <tr>\n",
       "      <th>7</th>\n",
       "      <td>-0.808741</td>\n",
       "      <td>-0.050049</td>\n",
       "      <td> foo</td>\n",
       "      <td> 0.191259</td>\n",
       "    </tr>\n",
       "    <tr>\n",
       "      <th>8</th>\n",
       "      <td>-0.476034</td>\n",
       "      <td> 0.434798</td>\n",
       "      <td> foo</td>\n",
       "      <td> 0.523966</td>\n",
       "    </tr>\n",
       "    <tr>\n",
       "      <th>9</th>\n",
       "      <td>-0.983400</td>\n",
       "      <td> 0.520353</td>\n",
       "      <td> foo</td>\n",
       "      <td> 0.016600</td>\n",
       "    </tr>\n",
       "  </tbody>\n",
       "</table>\n",
       "</div>"
      ],
      "text/plain": [
       "          a         b    c         e\n",
       "0 -1.411071 -1.790653  bar -0.411071\n",
       "1 -1.588594 -1.347611  foo -0.588594\n",
       "2 -1.885194  1.388421  foo -0.885194\n",
       "3 -1.383498 -0.622524  bar -0.383498\n",
       "4 -0.293030  1.555308  foo  0.706970\n",
       "7 -0.808741 -0.050049  foo  0.191259\n",
       "8 -0.476034  0.434798  foo  0.523966\n",
       "9 -0.983400  0.520353  foo  0.016600"
      ]
     },
     "execution_count": 61,
     "metadata": {},
     "output_type": "execute_result"
    }
   ],
   "source": [
    "df[df.a < 0]"
   ]
  },
  {
   "cell_type": "code",
   "execution_count": 62,
   "metadata": {
    "collapsed": false
   },
   "outputs": [
    {
     "data": {
      "text/html": [
       "<div style=\"max-height:1000px;max-width:1500px;overflow:auto;\">\n",
       "<table border=\"1\" class=\"dataframe\">\n",
       "  <thead>\n",
       "    <tr style=\"text-align: right;\">\n",
       "      <th></th>\n",
       "      <th>a</th>\n",
       "      <th>b</th>\n",
       "      <th>c</th>\n",
       "      <th>e</th>\n",
       "    </tr>\n",
       "  </thead>\n",
       "  <tbody>\n",
       "    <tr>\n",
       "      <th>0</th>\n",
       "      <td>-1.411071</td>\n",
       "      <td>-1.790653</td>\n",
       "      <td> bar</td>\n",
       "      <td>-0.411071</td>\n",
       "    </tr>\n",
       "    <tr>\n",
       "      <th>1</th>\n",
       "      <td>-1.588594</td>\n",
       "      <td>-1.347611</td>\n",
       "      <td> foo</td>\n",
       "      <td>-0.588594</td>\n",
       "    </tr>\n",
       "    <tr>\n",
       "      <th>3</th>\n",
       "      <td>-1.383498</td>\n",
       "      <td>-0.622524</td>\n",
       "      <td> bar</td>\n",
       "      <td>-0.383498</td>\n",
       "    </tr>\n",
       "    <tr>\n",
       "      <th>7</th>\n",
       "      <td>-0.808741</td>\n",
       "      <td>-0.050049</td>\n",
       "      <td> foo</td>\n",
       "      <td> 0.191259</td>\n",
       "    </tr>\n",
       "  </tbody>\n",
       "</table>\n",
       "</div>"
      ],
      "text/plain": [
       "          a         b    c         e\n",
       "0 -1.411071 -1.790653  bar -0.411071\n",
       "1 -1.588594 -1.347611  foo -0.588594\n",
       "3 -1.383498 -0.622524  bar -0.383498\n",
       "7 -0.808741 -0.050049  foo  0.191259"
      ]
     },
     "execution_count": 62,
     "metadata": {},
     "output_type": "execute_result"
    }
   ],
   "source": [
    "df[ (df.a < 0) & (df.b < 0) ] "
   ]
  },
  {
   "cell_type": "code",
   "execution_count": 63,
   "metadata": {
    "collapsed": false
   },
   "outputs": [
    {
     "data": {
      "text/plain": [
       "0    bar\n",
       "1    foo\n",
       "3    bar\n",
       "7    foo\n",
       "Name: c, dtype: object"
      ]
     },
     "execution_count": 63,
     "metadata": {},
     "output_type": "execute_result"
    }
   ],
   "source": [
    "df[ (df.a < 0) & (df.b < 0) ].c"
   ]
  },
  {
   "cell_type": "code",
   "execution_count": 64,
   "metadata": {
    "collapsed": false
   },
   "outputs": [
    {
     "data": {
      "text/html": [
       "<div style=\"max-height:1000px;max-width:1500px;overflow:auto;\">\n",
       "<table border=\"1\" class=\"dataframe\">\n",
       "  <thead>\n",
       "    <tr style=\"text-align: right;\">\n",
       "      <th></th>\n",
       "      <th>a</th>\n",
       "      <th>b</th>\n",
       "      <th>c</th>\n",
       "      <th>e</th>\n",
       "    </tr>\n",
       "  </thead>\n",
       "  <tbody>\n",
       "    <tr>\n",
       "      <th>0</th>\n",
       "      <td>-1.411071</td>\n",
       "      <td>-1.790653</td>\n",
       "      <td> bar</td>\n",
       "      <td>-0.411071</td>\n",
       "    </tr>\n",
       "  </tbody>\n",
       "</table>\n",
       "</div>"
      ],
      "text/plain": [
       "          a         b    c         e\n",
       "0 -1.411071 -1.790653  bar -0.411071"
      ]
     },
     "execution_count": 64,
     "metadata": {},
     "output_type": "execute_result"
    }
   ],
   "source": [
    "df.head(1)"
   ]
  },
  {
   "cell_type": "code",
   "execution_count": 65,
   "metadata": {
    "collapsed": false
   },
   "outputs": [
    {
     "data": {
      "text/html": [
       "<div style=\"max-height:1000px;max-width:1500px;overflow:auto;\">\n",
       "<table border=\"1\" class=\"dataframe\">\n",
       "  <thead>\n",
       "    <tr style=\"text-align: right;\">\n",
       "      <th></th>\n",
       "      <th>a</th>\n",
       "      <th>b</th>\n",
       "      <th>c</th>\n",
       "      <th>e</th>\n",
       "    </tr>\n",
       "  </thead>\n",
       "  <tbody>\n",
       "    <tr>\n",
       "      <th>9</th>\n",
       "      <td>-0.9834</td>\n",
       "      <td> 0.520353</td>\n",
       "      <td> foo</td>\n",
       "      <td> 0.0166</td>\n",
       "    </tr>\n",
       "  </tbody>\n",
       "</table>\n",
       "</div>"
      ],
      "text/plain": [
       "        a         b    c       e\n",
       "9 -0.9834  0.520353  foo  0.0166"
      ]
     },
     "execution_count": 65,
     "metadata": {},
     "output_type": "execute_result"
    }
   ],
   "source": [
    "df.tail(1)"
   ]
  },
  {
   "cell_type": "code",
   "execution_count": 66,
   "metadata": {
    "collapsed": false
   },
   "outputs": [
    {
     "data": {
      "text/plain": [
       "(10, 4)"
      ]
     },
     "execution_count": 66,
     "metadata": {},
     "output_type": "execute_result"
    }
   ],
   "source": [
    "df.shape"
   ]
  },
  {
   "cell_type": "code",
   "execution_count": 67,
   "metadata": {
    "collapsed": false
   },
   "outputs": [
    {
     "data": {
      "text/html": [
       "<div style=\"max-height:1000px;max-width:1500px;overflow:auto;\">\n",
       "<table border=\"1\" class=\"dataframe\">\n",
       "  <thead>\n",
       "    <tr style=\"text-align: right;\">\n",
       "      <th></th>\n",
       "      <th>a</th>\n",
       "      <th>b</th>\n",
       "      <th>e</th>\n",
       "    </tr>\n",
       "  </thead>\n",
       "  <tbody>\n",
       "    <tr>\n",
       "      <th>count</th>\n",
       "      <td> 10.000000</td>\n",
       "      <td> 10.000000</td>\n",
       "      <td> 10.000000</td>\n",
       "    </tr>\n",
       "    <tr>\n",
       "      <th>mean</th>\n",
       "      <td> -0.608346</td>\n",
       "      <td>  0.120449</td>\n",
       "      <td>  0.391654</td>\n",
       "    </tr>\n",
       "    <tr>\n",
       "      <th>std</th>\n",
       "      <td>  1.154241</td>\n",
       "      <td>  1.121973</td>\n",
       "      <td>  1.154241</td>\n",
       "    </tr>\n",
       "    <tr>\n",
       "      <th>min</th>\n",
       "      <td> -1.885194</td>\n",
       "      <td> -1.790653</td>\n",
       "      <td> -0.885194</td>\n",
       "    </tr>\n",
       "    <tr>\n",
       "      <th>25%</th>\n",
       "      <td> -1.404178</td>\n",
       "      <td> -0.479406</td>\n",
       "      <td> -0.404178</td>\n",
       "    </tr>\n",
       "    <tr>\n",
       "      <th>50%</th>\n",
       "      <td> -0.896070</td>\n",
       "      <td>  0.215391</td>\n",
       "      <td>  0.103930</td>\n",
       "    </tr>\n",
       "    <tr>\n",
       "      <th>75%</th>\n",
       "      <td> -0.338781</td>\n",
       "      <td>  0.970433</td>\n",
       "      <td>  0.661219</td>\n",
       "    </tr>\n",
       "    <tr>\n",
       "      <th>max</th>\n",
       "      <td>  1.419697</td>\n",
       "      <td>  1.555308</td>\n",
       "      <td>  2.419697</td>\n",
       "    </tr>\n",
       "  </tbody>\n",
       "</table>\n",
       "</div>"
      ],
      "text/plain": [
       "               a          b          e\n",
       "count  10.000000  10.000000  10.000000\n",
       "mean   -0.608346   0.120449   0.391654\n",
       "std     1.154241   1.121973   1.154241\n",
       "min    -1.885194  -1.790653  -0.885194\n",
       "25%    -1.404178  -0.479406  -0.404178\n",
       "50%    -0.896070   0.215391   0.103930\n",
       "75%    -0.338781   0.970433   0.661219\n",
       "max     1.419697   1.555308   2.419697"
      ]
     },
     "execution_count": 67,
     "metadata": {},
     "output_type": "execute_result"
    }
   ],
   "source": [
    "df.describe()"
   ]
  },
  {
   "cell_type": "code",
   "execution_count": 68,
   "metadata": {
    "collapsed": false
   },
   "outputs": [
    {
     "data": {
      "text/plain": [
       "a   -0.608346\n",
       "b    0.120449\n",
       "e    0.391654\n",
       "dtype: float64"
      ]
     },
     "execution_count": 68,
     "metadata": {},
     "output_type": "execute_result"
    }
   ],
   "source": [
    "df.mean(axis=0)"
   ]
  },
  {
   "cell_type": "code",
   "execution_count": 69,
   "metadata": {
    "collapsed": false
   },
   "outputs": [
    {
     "data": {
      "text/plain": [
       "0   -1.204265\n",
       "1   -1.174933\n",
       "2   -0.460656\n",
       "3   -0.796507\n",
       "4    0.656416\n",
       "5    1.591093\n",
       "6    1.278460\n",
       "7   -0.222510\n",
       "8    0.160910\n",
       "9   -0.148816\n",
       "dtype: float64"
      ]
     },
     "execution_count": 69,
     "metadata": {},
     "output_type": "execute_result"
    }
   ],
   "source": [
    "df.mean(axis=1)"
   ]
  },
  {
   "cell_type": "markdown",
   "metadata": {},
   "source": [
    "# Split-Apply-Combine \n",
    "\n",
    "A moment of abstraction. \n",
    "\n",
    "Very often we will want to perform group operations on data. In the financial example we saw that we wanted to perform operations for every week or for every month. In another example we might want to apply methods per geolocation/type of person/per website... etc \n",
    "\n",
    "Whenever we are doing such an operation, we might look at it as a ```split-apply-combine``` operation, shown visually below:\n",
    "\n",
    "<img src=\"https://camo.githubusercontent.com/60a1e7e95eaef8f9a99f43335368915eafedda3e/687474703a2f2f7777772e686f66726f652e6e65742f737461743537392f736c696465732f73706c69742d6170706c792d636f6d62696e652e706e67\" width = \"100%\">\n",
    "\n",
    "Pandas has great support for these kinds of operations. Based on the key of a dataframe we will split the data and then apply functions to the grouped data. \n",
    "\n",
    "# Enter ChickWeight \n",
    "\n",
    "For this next bit we will use the chickweight dataset. This dataset contains information about different diets for chickens. The goal of the dataset is to find out which diet will get the chickens as fat as possible. "
   ]
  },
  {
   "cell_type": "code",
   "execution_count": 29,
   "metadata": {
    "collapsed": false
   },
   "outputs": [
    {
     "data": {
      "text/html": [
       "<div style=\"max-height:1000px;max-width:1500px;overflow:auto;\">\n",
       "<table border=\"1\" class=\"dataframe\">\n",
       "  <thead>\n",
       "    <tr style=\"text-align: right;\">\n",
       "      <th></th>\n",
       "      <th>rownum</th>\n",
       "      <th>weight</th>\n",
       "      <th>Time</th>\n",
       "      <th>Chick</th>\n",
       "      <th>Diet</th>\n",
       "    </tr>\n",
       "  </thead>\n",
       "  <tbody>\n",
       "    <tr>\n",
       "      <th>count</th>\n",
       "      <td> 578.000000</td>\n",
       "      <td> 578.000000</td>\n",
       "      <td> 578.000000</td>\n",
       "      <td> 578.000000</td>\n",
       "      <td> 578.000000</td>\n",
       "    </tr>\n",
       "    <tr>\n",
       "      <th>mean</th>\n",
       "      <td> 289.500000</td>\n",
       "      <td> 121.818339</td>\n",
       "      <td>  10.717993</td>\n",
       "      <td>  25.750865</td>\n",
       "      <td>   2.235294</td>\n",
       "    </tr>\n",
       "    <tr>\n",
       "      <th>std</th>\n",
       "      <td> 166.998503</td>\n",
       "      <td>  71.071960</td>\n",
       "      <td>   6.758400</td>\n",
       "      <td>  14.568795</td>\n",
       "      <td>   1.162678</td>\n",
       "    </tr>\n",
       "    <tr>\n",
       "      <th>min</th>\n",
       "      <td>   1.000000</td>\n",
       "      <td>  35.000000</td>\n",
       "      <td>   0.000000</td>\n",
       "      <td>   1.000000</td>\n",
       "      <td>   1.000000</td>\n",
       "    </tr>\n",
       "    <tr>\n",
       "      <th>25%</th>\n",
       "      <td> 145.250000</td>\n",
       "      <td>  63.000000</td>\n",
       "      <td>   4.000000</td>\n",
       "      <td>  13.000000</td>\n",
       "      <td>   1.000000</td>\n",
       "    </tr>\n",
       "    <tr>\n",
       "      <th>50%</th>\n",
       "      <td> 289.500000</td>\n",
       "      <td> 103.000000</td>\n",
       "      <td>  10.000000</td>\n",
       "      <td>  26.000000</td>\n",
       "      <td>   2.000000</td>\n",
       "    </tr>\n",
       "    <tr>\n",
       "      <th>75%</th>\n",
       "      <td> 433.750000</td>\n",
       "      <td> 163.750000</td>\n",
       "      <td>  16.000000</td>\n",
       "      <td>  38.000000</td>\n",
       "      <td>   3.000000</td>\n",
       "    </tr>\n",
       "    <tr>\n",
       "      <th>max</th>\n",
       "      <td> 578.000000</td>\n",
       "      <td> 373.000000</td>\n",
       "      <td>  21.000000</td>\n",
       "      <td>  50.000000</td>\n",
       "      <td>   4.000000</td>\n",
       "    </tr>\n",
       "  </tbody>\n",
       "</table>\n",
       "</div>"
      ],
      "text/plain": [
       "           rownum      weight        Time       Chick        Diet\n",
       "count  578.000000  578.000000  578.000000  578.000000  578.000000\n",
       "mean   289.500000  121.818339   10.717993   25.750865    2.235294\n",
       "std    166.998503   71.071960    6.758400   14.568795    1.162678\n",
       "min      1.000000   35.000000    0.000000    1.000000    1.000000\n",
       "25%    145.250000   63.000000    4.000000   13.000000    1.000000\n",
       "50%    289.500000  103.000000   10.000000   26.000000    2.000000\n",
       "75%    433.750000  163.750000   16.000000   38.000000    3.000000\n",
       "max    578.000000  373.000000   21.000000   50.000000    4.000000"
      ]
     },
     "execution_count": 29,
     "metadata": {},
     "output_type": "execute_result"
    }
   ],
   "source": [
    "chickdf = pd.read_csv('http://koaning.s3-website-us-west-2.amazonaws.com/data/pydata/chickweight.csv')\n",
    "chickdf.describe()"
   ]
  },
  {
   "cell_type": "code",
   "execution_count": 30,
   "metadata": {
    "collapsed": false
   },
   "outputs": [
    {
     "name": "stdout",
     "output_type": "stream",
     "text": [
      "(1,      rownum  weight  Time  Chick  Diet\n",
      "0         1      42     0      1     1\n",
      "1         2      51     2      1     1\n",
      "2         3      59     4      1     1\n",
      "3         4      64     6      1     1\n",
      "4         5      76     8      1     1\n",
      "5         6      93    10      1     1\n",
      "6         7     106    12      1     1\n",
      "7         8     125    14      1     1\n",
      "8         9     149    16      1     1\n",
      "9        10     171    18      1     1\n",
      "10       11     199    20      1     1\n",
      "11       12     205    21      1     1\n",
      "12       13      40     0      2     1\n",
      "13       14      49     2      2     1\n",
      "14       15      58     4      2     1\n",
      "15       16      72     6      2     1\n",
      "16       17      84     8      2     1\n",
      "17       18     103    10      2     1\n",
      "18       19     122    12      2     1\n",
      "19       20     138    14      2     1\n",
      "20       21     162    16      2     1\n",
      "21       22     187    18      2     1\n",
      "22       23     209    20      2     1\n",
      "23       24     215    21      2     1\n",
      "24       25      43     0      3     1\n",
      "25       26      39     2      3     1\n",
      "26       27      55     4      3     1\n",
      "27       28      67     6      3     1\n",
      "28       29      84     8      3     1\n",
      "29       30      99    10      3     1\n",
      "..      ...     ...   ...    ...   ...\n",
      "190     191     113    16     17     1\n",
      "191     192     123    18     17     1\n",
      "192     193     133    20     17     1\n",
      "193     194     142    21     17     1\n",
      "194     195      39     0     18     1\n",
      "195     196      35     2     18     1\n",
      "196     197      43     0     19     1\n",
      "197     198      48     2     19     1\n",
      "198     199      55     4     19     1\n",
      "199     200      62     6     19     1\n",
      "200     201      65     8     19     1\n",
      "201     202      71    10     19     1\n",
      "202     203      82    12     19     1\n",
      "203     204      88    14     19     1\n",
      "204     205     106    16     19     1\n",
      "205     206     120    18     19     1\n",
      "206     207     144    20     19     1\n",
      "207     208     157    21     19     1\n",
      "208     209      41     0     20     1\n",
      "209     210      47     2     20     1\n",
      "210     211      54     4     20     1\n",
      "211     212      58     6     20     1\n",
      "212     213      65     8     20     1\n",
      "213     214      73    10     20     1\n",
      "214     215      77    12     20     1\n",
      "215     216      89    14     20     1\n",
      "216     217      98    16     20     1\n",
      "217     218     107    18     20     1\n",
      "218     219     115    20     20     1\n",
      "219     220     117    21     20     1\n",
      "\n",
      "[220 rows x 5 columns])\n",
      "(2,      rownum  weight  Time  Chick  Diet\n",
      "220     221      40     0     21     2\n",
      "221     222      50     2     21     2\n",
      "222     223      62     4     21     2\n",
      "223     224      86     6     21     2\n",
      "224     225     125     8     21     2\n",
      "225     226     163    10     21     2\n",
      "226     227     217    12     21     2\n",
      "227     228     240    14     21     2\n",
      "228     229     275    16     21     2\n",
      "229     230     307    18     21     2\n",
      "230     231     318    20     21     2\n",
      "231     232     331    21     21     2\n",
      "232     233      41     0     22     2\n",
      "233     234      55     2     22     2\n",
      "234     235      64     4     22     2\n",
      "235     236      77     6     22     2\n",
      "236     237      90     8     22     2\n",
      "237     238      95    10     22     2\n",
      "238     239     108    12     22     2\n",
      "239     240     111    14     22     2\n",
      "240     241     131    16     22     2\n",
      "241     242     148    18     22     2\n",
      "242     243     164    20     22     2\n",
      "243     244     167    21     22     2\n",
      "244     245      43     0     23     2\n",
      "245     246      52     2     23     2\n",
      "246     247      61     4     23     2\n",
      "247     248      73     6     23     2\n",
      "248     249      90     8     23     2\n",
      "249     250     103    10     23     2\n",
      "..      ...     ...   ...    ...   ...\n",
      "310     311     145    12     28     2\n",
      "311     312     156    14     28     2\n",
      "312     313     184    16     28     2\n",
      "313     314     207    18     28     2\n",
      "314     315     212    20     28     2\n",
      "315     316     233    21     28     2\n",
      "316     317      39     0     29     2\n",
      "317     318      48     2     29     2\n",
      "318     319      59     4     29     2\n",
      "319     320      74     6     29     2\n",
      "320     321      87     8     29     2\n",
      "321     322     106    10     29     2\n",
      "322     323     134    12     29     2\n",
      "323     324     150    14     29     2\n",
      "324     325     187    16     29     2\n",
      "325     326     230    18     29     2\n",
      "326     327     279    20     29     2\n",
      "327     328     309    21     29     2\n",
      "328     329      42     0     30     2\n",
      "329     330      48     2     30     2\n",
      "330     331      59     4     30     2\n",
      "331     332      72     6     30     2\n",
      "332     333      85     8     30     2\n",
      "333     334      98    10     30     2\n",
      "334     335     115    12     30     2\n",
      "335     336     122    14     30     2\n",
      "336     337     143    16     30     2\n",
      "337     338     151    18     30     2\n",
      "338     339     157    20     30     2\n",
      "339     340     150    21     30     2\n",
      "\n",
      "[120 rows x 5 columns])\n",
      "(3,      rownum  weight  Time  Chick  Diet\n",
      "340     341      42     0     31     3\n",
      "341     342      53     2     31     3\n",
      "342     343      62     4     31     3\n",
      "343     344      73     6     31     3\n",
      "344     345      85     8     31     3\n",
      "345     346     102    10     31     3\n",
      "346     347     123    12     31     3\n",
      "347     348     138    14     31     3\n",
      "348     349     170    16     31     3\n",
      "349     350     204    18     31     3\n",
      "350     351     235    20     31     3\n",
      "351     352     256    21     31     3\n",
      "352     353      41     0     32     3\n",
      "353     354      49     2     32     3\n",
      "354     355      65     4     32     3\n",
      "355     356      82     6     32     3\n",
      "356     357     107     8     32     3\n",
      "357     358     129    10     32     3\n",
      "358     359     159    12     32     3\n",
      "359     360     179    14     32     3\n",
      "360     361     221    16     32     3\n",
      "361     362     263    18     32     3\n",
      "362     363     291    20     32     3\n",
      "363     364     305    21     32     3\n",
      "364     365      39     0     33     3\n",
      "365     366      50     2     33     3\n",
      "366     367      63     4     33     3\n",
      "367     368      77     6     33     3\n",
      "368     369      96     8     33     3\n",
      "369     370     111    10     33     3\n",
      "..      ...     ...   ...    ...   ...\n",
      "430     431     128    12     38     3\n",
      "431     432     154    14     38     3\n",
      "432     433     192    16     38     3\n",
      "433     434     232    18     38     3\n",
      "434     435     280    20     38     3\n",
      "435     436     290    21     38     3\n",
      "436     437      42     0     39     3\n",
      "437     438      50     2     39     3\n",
      "438     439      61     4     39     3\n",
      "439     440      78     6     39     3\n",
      "440     441      89     8     39     3\n",
      "441     442     109    10     39     3\n",
      "442     443     130    12     39     3\n",
      "443     444     146    14     39     3\n",
      "444     445     170    16     39     3\n",
      "445     446     214    18     39     3\n",
      "446     447     250    20     39     3\n",
      "447     448     272    21     39     3\n",
      "448     449      41     0     40     3\n",
      "449     450      55     2     40     3\n",
      "450     451      66     4     40     3\n",
      "451     452      79     6     40     3\n",
      "452     453     101     8     40     3\n",
      "453     454     120    10     40     3\n",
      "454     455     154    12     40     3\n",
      "455     456     182    14     40     3\n",
      "456     457     215    16     40     3\n",
      "457     458     262    18     40     3\n",
      "458     459     295    20     40     3\n",
      "459     460     321    21     40     3\n",
      "\n",
      "[120 rows x 5 columns])\n",
      "(4,      rownum  weight  Time  Chick  Diet\n",
      "460     461      42     0     41     4\n",
      "461     462      51     2     41     4\n",
      "462     463      66     4     41     4\n",
      "463     464      85     6     41     4\n",
      "464     465     103     8     41     4\n",
      "465     466     124    10     41     4\n",
      "466     467     155    12     41     4\n",
      "467     468     153    14     41     4\n",
      "468     469     175    16     41     4\n",
      "469     470     184    18     41     4\n",
      "470     471     199    20     41     4\n",
      "471     472     204    21     41     4\n",
      "472     473      42     0     42     4\n",
      "473     474      49     2     42     4\n",
      "474     475      63     4     42     4\n",
      "475     476      84     6     42     4\n",
      "476     477     103     8     42     4\n",
      "477     478     126    10     42     4\n",
      "478     479     160    12     42     4\n",
      "479     480     174    14     42     4\n",
      "480     481     204    16     42     4\n",
      "481     482     234    18     42     4\n",
      "482     483     269    20     42     4\n",
      "483     484     281    21     42     4\n",
      "484     485      42     0     43     4\n",
      "485     486      55     2     43     4\n",
      "486     487      69     4     43     4\n",
      "487     488      96     6     43     4\n",
      "488     489     131     8     43     4\n",
      "489     490     157    10     43     4\n",
      "..      ...     ...   ...    ...   ...\n",
      "548     549     154    12     48     4\n",
      "549     550     170    14     48     4\n",
      "550     551     222    16     48     4\n",
      "551     552     261    18     48     4\n",
      "552     553     303    20     48     4\n",
      "553     554     322    21     48     4\n",
      "554     555      40     0     49     4\n",
      "555     556      53     2     49     4\n",
      "556     557      64     4     49     4\n",
      "557     558      85     6     49     4\n",
      "558     559     108     8     49     4\n",
      "559     560     128    10     49     4\n",
      "560     561     152    12     49     4\n",
      "561     562     166    14     49     4\n",
      "562     563     184    16     49     4\n",
      "563     564     203    18     49     4\n",
      "564     565     233    20     49     4\n",
      "565     566     237    21     49     4\n",
      "566     567      41     0     50     4\n",
      "567     568      54     2     50     4\n",
      "568     569      67     4     50     4\n",
      "569     570      84     6     50     4\n",
      "570     571     105     8     50     4\n",
      "571     572     122    10     50     4\n",
      "572     573     155    12     50     4\n",
      "573     574     175    14     50     4\n",
      "574     575     205    16     50     4\n",
      "575     576     234    18     50     4\n",
      "576     577     264    20     50     4\n",
      "577     578     264    21     50     4\n",
      "\n",
      "[118 rows x 5 columns])\n"
     ]
    }
   ],
   "source": [
    "grouped = chickdf.groupby([\"Diet\"])\n",
    "\n",
    "for thing in grouped:\n",
    "    print(thing)"
   ]
  },
  {
   "cell_type": "code",
   "execution_count": 31,
   "metadata": {
    "collapsed": false
   },
   "outputs": [
    {
     "data": {
      "text/html": [
       "<div style=\"max-height:1000px;max-width:1500px;overflow:auto;\">\n",
       "<table border=\"1\" class=\"dataframe\">\n",
       "  <thead>\n",
       "    <tr style=\"text-align: right;\">\n",
       "      <th></th>\n",
       "      <th></th>\n",
       "      <th>Chick</th>\n",
       "      <th>Time</th>\n",
       "      <th>rownum</th>\n",
       "      <th>weight</th>\n",
       "    </tr>\n",
       "    <tr>\n",
       "      <th>Diet</th>\n",
       "      <th></th>\n",
       "      <th></th>\n",
       "      <th></th>\n",
       "      <th></th>\n",
       "      <th></th>\n",
       "    </tr>\n",
       "  </thead>\n",
       "  <tbody>\n",
       "    <tr>\n",
       "      <th rowspan=\"8\" valign=\"top\">1</th>\n",
       "      <th>count</th>\n",
       "      <td> 220.000000</td>\n",
       "      <td> 220.000000</td>\n",
       "      <td> 220.000000</td>\n",
       "      <td> 220.000000</td>\n",
       "    </tr>\n",
       "    <tr>\n",
       "      <th>mean</th>\n",
       "      <td>   9.963636</td>\n",
       "      <td>  10.481818</td>\n",
       "      <td> 110.500000</td>\n",
       "      <td> 102.645455</td>\n",
       "    </tr>\n",
       "    <tr>\n",
       "      <th>std</th>\n",
       "      <td>   5.700160</td>\n",
       "      <td>   6.754984</td>\n",
       "      <td>  63.652704</td>\n",
       "      <td>  56.656553</td>\n",
       "    </tr>\n",
       "    <tr>\n",
       "      <th>min</th>\n",
       "      <td>   1.000000</td>\n",
       "      <td>   0.000000</td>\n",
       "      <td>   1.000000</td>\n",
       "      <td>  35.000000</td>\n",
       "    </tr>\n",
       "    <tr>\n",
       "      <th>25%</th>\n",
       "      <td>   5.000000</td>\n",
       "      <td>   4.000000</td>\n",
       "      <td>  55.750000</td>\n",
       "      <td>  57.750000</td>\n",
       "    </tr>\n",
       "    <tr>\n",
       "      <th>50%</th>\n",
       "      <td>  10.000000</td>\n",
       "      <td>  10.000000</td>\n",
       "      <td> 110.500000</td>\n",
       "      <td>  88.000000</td>\n",
       "    </tr>\n",
       "    <tr>\n",
       "      <th>75%</th>\n",
       "      <td>  14.000000</td>\n",
       "      <td>  16.000000</td>\n",
       "      <td> 165.250000</td>\n",
       "      <td> 136.500000</td>\n",
       "    </tr>\n",
       "    <tr>\n",
       "      <th>max</th>\n",
       "      <td>  20.000000</td>\n",
       "      <td>  21.000000</td>\n",
       "      <td> 220.000000</td>\n",
       "      <td> 305.000000</td>\n",
       "    </tr>\n",
       "    <tr>\n",
       "      <th rowspan=\"8\" valign=\"top\">2</th>\n",
       "      <th>count</th>\n",
       "      <td> 120.000000</td>\n",
       "      <td> 120.000000</td>\n",
       "      <td> 120.000000</td>\n",
       "      <td> 120.000000</td>\n",
       "    </tr>\n",
       "    <tr>\n",
       "      <th>mean</th>\n",
       "      <td>  25.500000</td>\n",
       "      <td>  10.916667</td>\n",
       "      <td> 280.500000</td>\n",
       "      <td> 122.616667</td>\n",
       "    </tr>\n",
       "    <tr>\n",
       "      <th>std</th>\n",
       "      <td>   2.884324</td>\n",
       "      <td>   6.804081</td>\n",
       "      <td>  34.785054</td>\n",
       "      <td>  71.607495</td>\n",
       "    </tr>\n",
       "    <tr>\n",
       "      <th>min</th>\n",
       "      <td>  21.000000</td>\n",
       "      <td>   0.000000</td>\n",
       "      <td> 221.000000</td>\n",
       "      <td>  39.000000</td>\n",
       "    </tr>\n",
       "    <tr>\n",
       "      <th>25%</th>\n",
       "      <td>  23.000000</td>\n",
       "      <td>   5.500000</td>\n",
       "      <td> 250.750000</td>\n",
       "      <td>  65.500000</td>\n",
       "    </tr>\n",
       "    <tr>\n",
       "      <th>50%</th>\n",
       "      <td>  25.500000</td>\n",
       "      <td>  11.000000</td>\n",
       "      <td> 280.500000</td>\n",
       "      <td> 104.500000</td>\n",
       "    </tr>\n",
       "    <tr>\n",
       "      <th>75%</th>\n",
       "      <td>  28.000000</td>\n",
       "      <td>  16.500000</td>\n",
       "      <td> 310.250000</td>\n",
       "      <td> 163.000000</td>\n",
       "    </tr>\n",
       "    <tr>\n",
       "      <th>max</th>\n",
       "      <td>  30.000000</td>\n",
       "      <td>  21.000000</td>\n",
       "      <td> 340.000000</td>\n",
       "      <td> 331.000000</td>\n",
       "    </tr>\n",
       "    <tr>\n",
       "      <th rowspan=\"8\" valign=\"top\">3</th>\n",
       "      <th>count</th>\n",
       "      <td> 120.000000</td>\n",
       "      <td> 120.000000</td>\n",
       "      <td> 120.000000</td>\n",
       "      <td> 120.000000</td>\n",
       "    </tr>\n",
       "    <tr>\n",
       "      <th>mean</th>\n",
       "      <td>  35.500000</td>\n",
       "      <td>  10.916667</td>\n",
       "      <td> 400.500000</td>\n",
       "      <td> 142.950000</td>\n",
       "    </tr>\n",
       "    <tr>\n",
       "      <th>std</th>\n",
       "      <td>   2.884324</td>\n",
       "      <td>   6.804081</td>\n",
       "      <td>  34.785054</td>\n",
       "      <td>  86.541761</td>\n",
       "    </tr>\n",
       "    <tr>\n",
       "      <th>min</th>\n",
       "      <td>  31.000000</td>\n",
       "      <td>   0.000000</td>\n",
       "      <td> 341.000000</td>\n",
       "      <td>  39.000000</td>\n",
       "    </tr>\n",
       "    <tr>\n",
       "      <th>25%</th>\n",
       "      <td>  33.000000</td>\n",
       "      <td>   5.500000</td>\n",
       "      <td> 370.750000</td>\n",
       "      <td>  67.500000</td>\n",
       "    </tr>\n",
       "    <tr>\n",
       "      <th>50%</th>\n",
       "      <td>  35.500000</td>\n",
       "      <td>  11.000000</td>\n",
       "      <td> 400.500000</td>\n",
       "      <td> 125.500000</td>\n",
       "    </tr>\n",
       "    <tr>\n",
       "      <th>75%</th>\n",
       "      <td>  38.000000</td>\n",
       "      <td>  16.500000</td>\n",
       "      <td> 430.250000</td>\n",
       "      <td> 198.750000</td>\n",
       "    </tr>\n",
       "    <tr>\n",
       "      <th>max</th>\n",
       "      <td>  40.000000</td>\n",
       "      <td>  21.000000</td>\n",
       "      <td> 460.000000</td>\n",
       "      <td> 373.000000</td>\n",
       "    </tr>\n",
       "    <tr>\n",
       "      <th rowspan=\"8\" valign=\"top\">4</th>\n",
       "      <th>count</th>\n",
       "      <td> 118.000000</td>\n",
       "      <td> 118.000000</td>\n",
       "      <td> 118.000000</td>\n",
       "      <td> 118.000000</td>\n",
       "    </tr>\n",
       "    <tr>\n",
       "      <th>mean</th>\n",
       "      <td>  45.525424</td>\n",
       "      <td>  10.754237</td>\n",
       "      <td> 519.500000</td>\n",
       "      <td> 135.262712</td>\n",
       "    </tr>\n",
       "    <tr>\n",
       "      <th>std</th>\n",
       "      <td>   2.902141</td>\n",
       "      <td>   6.744338</td>\n",
       "      <td>  34.207699</td>\n",
       "      <td>  68.828714</td>\n",
       "    </tr>\n",
       "    <tr>\n",
       "      <th>min</th>\n",
       "      <td>  41.000000</td>\n",
       "      <td>   0.000000</td>\n",
       "      <td> 461.000000</td>\n",
       "      <td>  39.000000</td>\n",
       "    </tr>\n",
       "    <tr>\n",
       "      <th>25%</th>\n",
       "      <td>  43.000000</td>\n",
       "      <td>   4.500000</td>\n",
       "      <td> 490.250000</td>\n",
       "      <td>  71.250000</td>\n",
       "    </tr>\n",
       "    <tr>\n",
       "      <th>50%</th>\n",
       "      <td>  46.000000</td>\n",
       "      <td>  10.000000</td>\n",
       "      <td> 519.500000</td>\n",
       "      <td> 129.500000</td>\n",
       "    </tr>\n",
       "    <tr>\n",
       "      <th>75%</th>\n",
       "      <td>  48.000000</td>\n",
       "      <td>  16.000000</td>\n",
       "      <td> 548.750000</td>\n",
       "      <td> 184.750000</td>\n",
       "    </tr>\n",
       "    <tr>\n",
       "      <th>max</th>\n",
       "      <td>  50.000000</td>\n",
       "      <td>  21.000000</td>\n",
       "      <td> 578.000000</td>\n",
       "      <td> 322.000000</td>\n",
       "    </tr>\n",
       "  </tbody>\n",
       "</table>\n",
       "</div>"
      ],
      "text/plain": [
       "                 Chick        Time      rownum      weight\n",
       "Diet                                                      \n",
       "1    count  220.000000  220.000000  220.000000  220.000000\n",
       "     mean     9.963636   10.481818  110.500000  102.645455\n",
       "     std      5.700160    6.754984   63.652704   56.656553\n",
       "     min      1.000000    0.000000    1.000000   35.000000\n",
       "     25%      5.000000    4.000000   55.750000   57.750000\n",
       "     50%     10.000000   10.000000  110.500000   88.000000\n",
       "     75%     14.000000   16.000000  165.250000  136.500000\n",
       "     max     20.000000   21.000000  220.000000  305.000000\n",
       "2    count  120.000000  120.000000  120.000000  120.000000\n",
       "     mean    25.500000   10.916667  280.500000  122.616667\n",
       "     std      2.884324    6.804081   34.785054   71.607495\n",
       "     min     21.000000    0.000000  221.000000   39.000000\n",
       "     25%     23.000000    5.500000  250.750000   65.500000\n",
       "     50%     25.500000   11.000000  280.500000  104.500000\n",
       "     75%     28.000000   16.500000  310.250000  163.000000\n",
       "     max     30.000000   21.000000  340.000000  331.000000\n",
       "3    count  120.000000  120.000000  120.000000  120.000000\n",
       "     mean    35.500000   10.916667  400.500000  142.950000\n",
       "     std      2.884324    6.804081   34.785054   86.541761\n",
       "     min     31.000000    0.000000  341.000000   39.000000\n",
       "     25%     33.000000    5.500000  370.750000   67.500000\n",
       "     50%     35.500000   11.000000  400.500000  125.500000\n",
       "     75%     38.000000   16.500000  430.250000  198.750000\n",
       "     max     40.000000   21.000000  460.000000  373.000000\n",
       "4    count  118.000000  118.000000  118.000000  118.000000\n",
       "     mean    45.525424   10.754237  519.500000  135.262712\n",
       "     std      2.902141    6.744338   34.207699   68.828714\n",
       "     min     41.000000    0.000000  461.000000   39.000000\n",
       "     25%     43.000000    4.500000  490.250000   71.250000\n",
       "     50%     46.000000   10.000000  519.500000  129.500000\n",
       "     75%     48.000000   16.000000  548.750000  184.750000\n",
       "     max     50.000000   21.000000  578.000000  322.000000"
      ]
     },
     "execution_count": 31,
     "metadata": {},
     "output_type": "execute_result"
    }
   ],
   "source": [
    "grouped.describe()"
   ]
  },
  {
   "cell_type": "markdown",
   "metadata": {},
   "source": [
    "### Applying your own\n",
    "We can use built in functions on our grouped objects, but we can also just apply our own functions. \n",
    "\n",
    "Note that these functions need to be able to be applied to a DataFrame object, as long as the function does this, it will work."
   ]
  },
  {
   "cell_type": "code",
   "execution_count": 32,
   "metadata": {
    "collapsed": false
   },
   "outputs": [
    {
     "data": {
      "text/plain": [
       "Diet\n",
       "1       Dude we have 220 chickens here!\n",
       "2       Dude we have 120 chickens here!\n",
       "3       Dude we have 120 chickens here!\n",
       "4       Dude we have 118 chickens here!\n",
       "dtype: object"
      ]
     },
     "execution_count": 32,
     "metadata": {},
     "output_type": "execute_result"
    }
   ],
   "source": [
    "def show_size(x):\n",
    "    return \"Dude we have \" + str(len(x)) + \" chickens here!\" \n",
    "\n",
    "grouped.apply(show_size)"
   ]
  },
  {
   "cell_type": "markdown",
   "metadata": {},
   "source": [
    "Realize that this means that **any** function can be used here. You will want to think about performance when dealing with large datasets. This functionality is one of the things that make the pandas API very powerful. \n",
    "\n",
    "### Advanced Groups \n",
    "We can also created groups based on two columns in the table. "
   ]
  },
  {
   "cell_type": "code",
   "execution_count": 33,
   "metadata": {
    "collapsed": false
   },
   "outputs": [
    {
     "data": {
      "text/plain": [
       "Time\n",
       "0       Dude we have 50 chickens here!\n",
       "2       Dude we have 50 chickens here!\n",
       "4       Dude we have 49 chickens here!\n",
       "6       Dude we have 49 chickens here!\n",
       "8       Dude we have 49 chickens here!\n",
       "10      Dude we have 49 chickens here!\n",
       "12      Dude we have 49 chickens here!\n",
       "14      Dude we have 48 chickens here!\n",
       "16      Dude we have 47 chickens here!\n",
       "18      Dude we have 47 chickens here!\n",
       "20      Dude we have 46 chickens here!\n",
       "21      Dude we have 45 chickens here!\n",
       "Name: weight, dtype: object"
      ]
     },
     "execution_count": 33,
     "metadata": {},
     "output_type": "execute_result"
    }
   ],
   "source": [
    "chickdf.groupby(['Time']).weight.apply(show_size)"
   ]
  },
  {
   "cell_type": "markdown",
   "metadata": {},
   "source": [
    "Looks like some chickens 'disappeared' prematurely. "
   ]
  },
  {
   "cell_type": "markdown",
   "metadata": {},
   "source": [
    "### Pandas & visualisation"
   ]
  },
  {
   "cell_type": "code",
   "execution_count": 34,
   "metadata": {
    "collapsed": false
   },
   "outputs": [
    {
     "data": {
      "text/plain": [
       "Time  Diet\n",
       "0     1        41.400000\n",
       "      2        40.700000\n",
       "      3        40.800000\n",
       "      4        41.000000\n",
       "2     1        47.250000\n",
       "      2        49.400000\n",
       "      3        50.400000\n",
       "      4        51.800000\n",
       "4     1        56.473684\n",
       "      2        59.800000\n",
       "      3        62.200000\n",
       "      4        64.500000\n",
       "6     1        66.789474\n",
       "      2        75.400000\n",
       "      3        77.900000\n",
       "      4        83.900000\n",
       "8     1        79.684211\n",
       "      2        91.700000\n",
       "      3        98.400000\n",
       "      4       105.600000\n",
       "10    1        93.052632\n",
       "      2       108.500000\n",
       "      3       117.100000\n",
       "      4       126.000000\n",
       "12    1       108.526316\n",
       "      2       131.300000\n",
       "      3       144.400000\n",
       "      4       151.400000\n",
       "14    1       123.388889\n",
       "      2       141.900000\n",
       "      3       164.500000\n",
       "      4       161.800000\n",
       "16    1       144.647059\n",
       "      2       164.700000\n",
       "      3       197.400000\n",
       "      4       182.000000\n",
       "18    1       158.941176\n",
       "      2       187.700000\n",
       "      3       233.100000\n",
       "      4       202.900000\n",
       "20    1       170.411765\n",
       "      2       205.600000\n",
       "      3       258.900000\n",
       "      4       233.888889\n",
       "21    1       177.750000\n",
       "      2       214.700000\n",
       "      3       270.300000\n",
       "      4       238.555556\n",
       "Name: weight, dtype: float64"
      ]
     },
     "execution_count": 34,
     "metadata": {},
     "output_type": "execute_result"
    }
   ],
   "source": [
    "agg = chickdf.groupby(['Time',\"Diet\"]).weight.apply(np.mean)\n",
    "agg"
   ]
  },
  {
   "cell_type": "markdown",
   "metadata": {},
   "source": [
    "Notice that we can unstack this dataframe to plot it easily. Also notice the pattern. "
   ]
  },
  {
   "cell_type": "code",
   "execution_count": 35,
   "metadata": {
    "collapsed": false
   },
   "outputs": [
    {
     "data": {
      "text/plain": [
       "<matplotlib.axes._subplots.AxesSubplot at 0x107869668>"
      ]
     },
     "execution_count": 35,
     "metadata": {},
     "output_type": "execute_result"
    },
    {
     "data": {
      "image/png": "[encoded data removed]",
      "text/plain": [
       "<matplotlib.figure.Figure at 0x10aba07f0>"
      ]
     },
     "metadata": {},
     "output_type": "display_data"
    }
   ],
   "source": [
    "agg.unstack().plot()"
   ]
  },
  {
   "cell_type": "markdown",
   "metadata": {},
   "source": [
    "## Hacking Bit! \n",
    "\n",
    "Play with a dataset! Grab a partner and try to learn pandas through a fun dataset. Search the web or if you need inspiration; this [blogpost](http://koaning.io/fun-datasets.html) might help."
   ]
  },
  {
   "cell_type": "markdown",
   "metadata": {},
   "source": [
    "### What next? \n",
    "\n",
    "I hope you enjoyed the open session. Drop me a line anytime https://twitter.com/fishnets88"
   ]
  }
 ],
 "metadata": {
  "kernelspec": {
   "display_name": "Python 2",
   "language": "python",
   "name": "python2"
  },
  "language_info": {
   "codemirror_mode": {
    "name": "ipython",
    "version": 2
   },
   "file_extension": ".py",
   "mimetype": "text/x-python",
   "name": "python",
   "nbconvert_exporter": "python",
   "pygments_lexer": "ipython2",
   "version": "2.7.10"
  }
 },
 "nbformat": 4,
 "nbformat_minor": 0
}
